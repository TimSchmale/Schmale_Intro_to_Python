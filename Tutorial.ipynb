{
 "cells": [
  {
   "cell_type": "code",
   "execution_count": 5,
   "id": "fc8228de-49f0-4fc7-818f-812d979d04fb",
   "metadata": {},
   "outputs": [],
   "source": [
    "import sys\n",
    "import os\n",
    "\n",
    "# Pfad zum Projekt hinzufügen (damit du dein Modul importieren kannst)\n",
    "sys.path.append(os.path.abspath(\"..\"))\n",
    "\n",
    "from football_stats_analysis.data_handler import DataHandler\n"
   ]
  },
  {
   "cell_type": "code",
   "execution_count": 7,
   "id": "d07fec48-fedf-422b-9e89-07fdced4936e",
   "metadata": {},
   "outputs": [
    {
     "name": "stdout",
     "output_type": "stream",
     "text": [
      "Data loading successful.\n"
     ]
    },
    {
     "ename": "NameError",
     "evalue": "name 'get_dataset_information' is not defined",
     "output_type": "error",
     "traceback": [
      "\u001b[0;31m---------------------------------------------------------------------------\u001b[0m",
      "\u001b[0;31mNameError\u001b[0m                                 Traceback (most recent call last)",
      "Cell \u001b[0;32mIn[7], line 6\u001b[0m\n\u001b[1;32m      3\u001b[0m df \u001b[38;5;241m=\u001b[39m dh\u001b[38;5;241m.\u001b[39mload_data()\n\u001b[1;32m      5\u001b[0m \u001b[38;5;66;03m# get the basic data set information\u001b[39;00m\n\u001b[0;32m----> 6\u001b[0m get_dataset_information()\n\u001b[1;32m      8\u001b[0m \u001b[38;5;66;03m# Display the first rows of the data set\u001b[39;00m\n\u001b[1;32m      9\u001b[0m display(df\u001b[38;5;241m.\u001b[39mhead())\n",
      "\u001b[0;31mNameError\u001b[0m: name 'get_dataset_information' is not defined"
     ]
    }
   ],
   "source": [
    "# Load the Kaggle data set out of the package\n",
    "dh = DataHandler()\n",
    "df = dh.load_data()\n",
    "\n",
    "# get the basic data set information\n",
    "get_dataset_information()\n",
    "\n",
    "# Display the first rows of the data set\n",
    "display(df.head())"
   ]
  },
  {
   "cell_type": "code",
   "execution_count": null,
   "id": "df89abf2-0dd9-4b8c-9794-63f29ae9a048",
   "metadata": {},
   "outputs": [],
   "source": []
  }
 ],
 "metadata": {
  "kernelspec": {
   "display_name": "Python 3 (ipykernel)",
   "language": "python",
   "name": "python3"
  },
  "language_info": {
   "codemirror_mode": {
    "name": "ipython",
    "version": 3
   },
   "file_extension": ".py",
   "mimetype": "text/x-python",
   "name": "python",
   "nbconvert_exporter": "python",
   "pygments_lexer": "ipython3",
   "version": "3.12.4"
  }
 },
 "nbformat": 4,
 "nbformat_minor": 5
}
